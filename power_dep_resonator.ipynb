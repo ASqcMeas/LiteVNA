{
 "cells": [
  {
   "cell_type": "markdown",
   "metadata": {},
   "source": [
    "Set configuration for this measurement"
   ]
  },
  {
   "cell_type": "code",
   "execution_count": 25,
   "metadata": {},
   "outputs": [],
   "source": [
    "config_path = r'resonator_PD.toml'\n",
    "\n",
    "\n",
    "import tomlkit\n",
    "\n",
    "# Assuming 'config.toml' is your file\n",
    "with open(config_path, 'r') as file:\n",
    "    content = file.read()\n",
    "    resPD_config = tomlkit.parse(content)\n",
    "\n"
   ]
  },
  {
   "cell_type": "markdown",
   "metadata": {},
   "source": [
    "Load packages"
   ]
  },
  {
   "cell_type": "code",
   "execution_count": 26,
   "metadata": {},
   "outputs": [],
   "source": [
    "import numpy as np\n",
    "import matplotlib.pyplot as plt\n",
    "import xarray as xr\n",
    "from datetime import datetime\n",
    "import tomli_w\n",
    "import copy"
   ]
  },
  {
   "cell_type": "markdown",
   "metadata": {},
   "source": [
    "config parser"
   ]
  },
  {
   "cell_type": "code",
   "execution_count": null,
   "metadata": {},
   "outputs": [],
   "source": []
  },
  {
   "cell_type": "code",
   "execution_count": 27,
   "metadata": {},
   "outputs": [
    {
     "name": "stdout",
     "output_type": "stream",
     "text": [
      "linear spacing power\n",
      "-50 0 20\n",
      "linear spacing power\n",
      "-50 0 20\n"
     ]
    }
   ],
   "source": [
    "\n",
    "\n",
    "data_output_folder = resPD_config[\"output\"][\"data_path\"]\n",
    "\n",
    "\n",
    "new_config = {\n",
    "    \"hardware\":resPD_config[\"hardware\"],\n",
    "    \"sample\":resPD_config[\"sample\"],\n",
    "}\n",
    "measurement = []\n",
    "\n",
    "attenuation = resPD_config[\"hardware\"][\"attenuation\"]\n",
    "for measurement_info in resPD_config[\"resonator\"]:\n",
    "    # print(measurement_info)\n",
    "    single_resonator = {\n",
    "        \"label\": measurement_info[\"label\"],\n",
    "        \"frequency\": measurement_info[\"frequency\"],\n",
    "        \"IF_bandwidth\":measurement_info[\"IF_bandwidth\"]\n",
    "    }\n",
    "\n",
    "    vna_power_setting = measurement_info[\"power\"]\n",
    "    # print(vna_power_setting)\n",
    "    if \"custom\" not in vna_power_setting.keys():\n",
    "        print(\"linear spacing power\")\n",
    "        min_power = vna_power_setting[\"min\"] \n",
    "        max_power = vna_power_setting[\"max\"] \n",
    "        step = vna_power_setting[\"step\"] \n",
    "        print(min_power,max_power,step)\n",
    "        power_range = np.arange( min_power, max_power+step/2, step)\n",
    "    else:\n",
    "        power_range = np.array(vna_power_setting[\"custom\"])\n",
    "        min_power = np.min(power_range)\n",
    "\n",
    "    power_range = power_range \n",
    "\n",
    "    IF_bandwidth = measurement_info[\"frequency\"][\"points\"]\n",
    "\n",
    "\n",
    "    max_repeat = int(measurement_info[\"snr\"][\"max_repeat\"])\n",
    "    min_repeat = int(measurement_info[\"snr\"][\"min_repeat\"])\n",
    "\n",
    "\n",
    "    for p in power_range:\n",
    "        r_sn = measurement_info[\"snr\"][\"power_ave_ratio\"]\n",
    "        repeat = 10**((r_sn -(p-attenuation) )/10)\n",
    "        if repeat < min_repeat: repeat = min_repeat\n",
    "        if repeat > max_repeat: repeat = max_repeat\n",
    "\n",
    "        single_power = copy.deepcopy(single_resonator)\n",
    "        single_power[\"power\"] = p\n",
    "        single_power[\"repeat\"] = int(repeat)\n",
    "        single_power[\"output\"] = f\"{data_output_folder}\\\\{measurement_info['label']}\\\\att{attenuation}_{str(p)}\"\n",
    "\n",
    "        measurement.append(single_power)\n",
    "\n",
    "new_config[\"measurement\"] = measurement\n",
    "# Export to a TOML file\n",
    "with open(f'power_dep_resonator.toml', 'wb') as file:\n",
    "    tomli_w.dump(new_config, file)"
   ]
  },
  {
   "cell_type": "markdown",
   "metadata": {},
   "source": [
    "Create task"
   ]
  },
  {
   "cell_type": "code",
   "execution_count": null,
   "metadata": {},
   "outputs": [],
   "source": []
  },
  {
   "cell_type": "markdown",
   "metadata": {},
   "source": [
    "Connect with VNA"
   ]
  },
  {
   "cell_type": "code",
   "execution_count": 28,
   "metadata": {},
   "outputs": [],
   "source": [
    "\n",
    "from driver import get_VNA\n",
    "\n",
    "# vna = get_VNA(vna_address,vna_model)\n",
    "\n",
    "# vna.check_error()\n",
    "\n",
    "\n"
   ]
  },
  {
   "cell_type": "markdown",
   "metadata": {},
   "source": [
    "Measurement"
   ]
  },
  {
   "cell_type": "code",
   "execution_count": null,
   "metadata": {},
   "outputs": [],
   "source": [
    "\n",
    "\n"
   ]
  },
  {
   "cell_type": "markdown",
   "metadata": {},
   "source": [
    "Plot"
   ]
  },
  {
   "cell_type": "code",
   "execution_count": null,
   "metadata": {},
   "outputs": [],
   "source": [
    "\n"
   ]
  }
 ],
 "metadata": {
  "kernelspec": {
   "display_name": "PYQUM-server-offline",
   "language": "python",
   "name": "python3"
  },
  "language_info": {
   "codemirror_mode": {
    "name": "ipython",
    "version": 3
   },
   "file_extension": ".py",
   "mimetype": "text/x-python",
   "name": "python",
   "nbconvert_exporter": "python",
   "pygments_lexer": "ipython3",
   "version": "3.10.6"
  }
 },
 "nbformat": 4,
 "nbformat_minor": 2
}
