{
 "cells": [
  {
   "cell_type": "markdown",
   "metadata": {},
   "source": [
    "Set configuration for this measurement"
   ]
  },
  {
   "cell_type": "code",
   "execution_count": null,
   "metadata": {},
   "outputs": [],
   "source": [
    "# config_path = r'power_dep_resonator.toml'\n",
    "config_path = r'measurement_window_finding.toml'\n",
    "\n",
    "import tomlkit\n",
    "\n",
    "# Assuming 'config.toml' is your file\n",
    "with open(config_path, 'r') as file:\n",
    "    content = file.read()\n",
    "    sweepLF_config = tomlkit.parse(content)\n",
    "\n"
   ]
  },
  {
   "cell_type": "markdown",
   "metadata": {},
   "source": [
    "config parser"
   ]
  },
  {
   "cell_type": "code",
   "execution_count": null,
   "metadata": {},
   "outputs": [],
   "source": [
    "\n",
    "\n",
    "vna_address = sweepLF_config[\"hardware\"][\"address\"]\n",
    "vna_model = sweepLF_config[\"hardware\"][\"model\"]\n",
    "vna_port = sweepLF_config[\"hardware\"][\"port\"]\n",
    "\n",
    "measurements = sweepLF_config[\"measurement\"]\n",
    "attenuation = sweepLF_config[\"hardware\"][\"attenuation\"]\n",
    "\n"
   ]
  },
  {
   "cell_type": "markdown",
   "metadata": {},
   "source": [
    "Load packages"
   ]
  },
  {
   "cell_type": "code",
   "execution_count": null,
   "metadata": {},
   "outputs": [],
   "source": [
    "import numpy as np\n",
    "import matplotlib.pyplot as plt\n",
    "import xarray as xr\n"
   ]
  },
  {
   "cell_type": "markdown",
   "metadata": {},
   "source": [
    "Connect with VNA"
   ]
  },
  {
   "cell_type": "code",
   "execution_count": null,
   "metadata": {},
   "outputs": [],
   "source": [
    "\n",
    "from driver import get_VNA\n",
    "\n",
    "vna = get_VNA(vna_address,vna_model)\n",
    "\n",
    "vna.check_error()\n",
    "\n",
    "\n"
   ]
  },
  {
   "cell_type": "markdown",
   "metadata": {},
   "source": [
    "Measurement"
   ]
  },
  {
   "cell_type": "code",
   "execution_count": null,
   "metadata": {},
   "outputs": [],
   "source": [
    "from scipy.signal import find_peaks, peak_widths\n",
    "\n",
    "def measure_and_find_peak(port, start, stop, points, power, IF_bandwidth):\n",
    "    # Perform a frequency sweep\n",
    "    freq_array, s_params = vna.lin_freq_sweep(start, stop, points, port, power, IF_bandwidth)\n",
    "    \n",
    "    # Extract magnitude from S-parameters\n",
    "    magnitude = 20 * np.log10(np.abs(s_params))\n",
    "    \n",
    "    # Find peaks in the magnitude response\n",
    "    peaks, _ = find_peaks(-magnitude)  \n",
    "\n",
    "    if len(peaks) > 0:\n",
    "        peak_index = peaks[np.argmin(magnitude[peaks])]\n",
    "        peak_frequency = freq_array[peak_index]\n",
    "\n",
    "        # Find the full width at half maximum (FWHM) of the peak\n",
    "        results_half = peak_widths(-magnitude, [peak_index], rel_height=0.5)\n",
    "        fwhm = results_half[0][0] * (freq_array[1] - freq_array[0])\n",
    "\n",
    "        # Determine new start and stop frequencies based on the peak and FWHM\n",
    "        new_start = peak_frequency - 15 * fwhm\n",
    "        new_stop = peak_frequency + 15 * fwhm\n",
    "\n",
    "        return new_start, new_stop\n",
    "    else:\n",
    "        raise ValueError(\"未找到向下的峰\")\n",
    "\n",
    "resonatorfre = []\n",
    "\n",
    "for m_task in measurements:\n",
    "    print(m_task)\n",
    "    deltafre = m_task['frequency']['deltafre']\n",
    "    resonator_fre = m_task[\"frequency\"][\"resonator_fre\"]\n",
    "    sweep_point = m_task[\"frequency\"][\"points\"]\n",
    "    vna_power = m_task[\"power\"]\n",
    "    IF_bandwidth = m_task[\"IF_bandwidth\"]\n",
    "\n",
    "# for freq in input_frequencies:\n",
    "    start_freq = resonator_fre - deltafre\n",
    "    stop_freq = resonator_fre + deltafre\n",
    "    \n",
    "    try:\n",
    "        # Perform the initial measurement and find the peak\n",
    "        new_start, new_stop = measure_and_find_peak(vna_port, start_freq, stop_freq, sweep_point, vna_power, IF_bandwidth)\n",
    "        \n",
    "        # Adjust the frequency range and measure again\n",
    "        new_start, new_stop = measure_and_find_peak(vna_port, new_start, new_stop, sweep_point, vna_power, IF_bandwidth)\n",
    "        \n",
    "        resonatorfre.append([new_start, new_stop])\n",
    "    except ValueError as e:\n",
    "        print(f\"在頻率 {resonator_fre} 附近未找到向下的峰：{e}\")\n",
    "\n",
    "    # print(f\"輸入頻率 {resonator_fre[m_task]} 的新頻率範圍：{new_start} - {new_stop}\")\n",
    "    print(f'{resonator_fre[m_task]} \\n start = {new_start} \\n stop = {new_stop}')\n",
    "\n"
   ]
  },
  {
   "cell_type": "markdown",
   "metadata": {},
   "source": [
    "plot"
   ]
  },
  {
   "cell_type": "code",
   "execution_count": null,
   "metadata": {},
   "outputs": [],
   "source": [
    "for i, (new_start, new_stop) in enumerate(resonatorfre):\n",
    "\n",
    "    freq_array, s_params = vna.lin_freq_sweep(new_start, new_stop, 501, vna_port, vna_power, 1000)\n",
    "    plt.plot(freq_array, 20*np.log10(np.abs(s_params)))\n",
    "    plt.plot(freq_array, np.angle(s_params))\n",
    "    plt.show()\n",
    "    print(f'{i} \\n start = {new_start} \\n stop = {new_stop}')"
   ]
  }
 ],
 "metadata": {
  "kernelspec": {
   "display_name": "PYQUM-server-offline",
   "language": "python",
   "name": "python3"
  },
  "language_info": {
   "codemirror_mode": {
    "name": "ipython",
    "version": 3
   },
   "file_extension": ".py",
   "mimetype": "text/x-python",
   "name": "python",
   "nbconvert_exporter": "python",
   "pygments_lexer": "ipython3",
   "version": "3.11.3"
  }
 },
 "nbformat": 4,
 "nbformat_minor": 2
}
