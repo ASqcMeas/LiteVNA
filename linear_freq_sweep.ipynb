{
 "cells": [
  {
   "cell_type": "markdown",
   "metadata": {},
   "source": [
    "Set configuration for this measurement"
   ]
  },
  {
   "cell_type": "code",
   "execution_count": 31,
   "metadata": {},
   "outputs": [],
   "source": [
    "config_path = r'measurement_LF.toml'\n",
    "# config_path = r'power_dep_resonator.toml'\n",
    "\n",
    "\n",
    "import tomlkit\n",
    "\n",
    "# Assuming 'config.toml' is your file\n",
    "with open(config_path, 'r') as file:\n",
    "    content = file.read()\n",
    "    sweepLF_config = tomlkit.parse(content)\n",
    "\n"
   ]
  },
  {
   "cell_type": "markdown",
   "metadata": {},
   "source": [
    "config parser"
   ]
  },
  {
   "cell_type": "code",
   "execution_count": 32,
   "metadata": {},
   "outputs": [],
   "source": [
    "\n",
    "\n",
    "vna_address = sweepLF_config[\"hardware\"][\"address\"]\n",
    "vna_model = sweepLF_config[\"hardware\"][\"model\"]\n",
    "vna_port = sweepLF_config[\"hardware\"][\"port\"]\n",
    "\n",
    "measurements = sweepLF_config[\"measurement\"]\n",
    "attenuation = sweepLF_config[\"hardware\"][\"attenuation\"]\n",
    "\n"
   ]
  },
  {
   "cell_type": "markdown",
   "metadata": {},
   "source": [
    "Load packages"
   ]
  },
  {
   "cell_type": "code",
   "execution_count": 33,
   "metadata": {},
   "outputs": [],
   "source": [
    "import numpy as np\n",
    "import matplotlib.pyplot as plt\n",
    "import xarray as xr\n",
    "from datetime import datetime\n",
    "from os import makedirs\n",
    "from os.path import exists\n"
   ]
  },
  {
   "cell_type": "markdown",
   "metadata": {},
   "source": [
    "Connect with VNA"
   ]
  },
  {
   "cell_type": "code",
   "execution_count": 34,
   "metadata": {},
   "outputs": [
    {
     "name": "stdout",
     "output_type": "stream",
     "text": [
      "Connected to: Keysight Technologies,E5080B,MY59101342,A.14.10.08\n",
      "\n",
      "Clear Status: 6\n",
      "VNA_E5080B object has been deleted\n",
      "VNA_E5080B object connection is closed.\n",
      "Instrument Error: +0,\"No error\"\n",
      "\n"
     ]
    }
   ],
   "source": [
    "\n",
    "from driver import get_VNA\n",
    "\n",
    "vna = get_VNA(vna_address,vna_model)\n",
    "\n",
    "vna.check_error()\n",
    "\n",
    "\n"
   ]
  },
  {
   "cell_type": "markdown",
   "metadata": {},
   "source": [
    "Measurement"
   ]
  },
  {
   "cell_type": "code",
   "execution_count": 35,
   "metadata": {},
   "outputs": [
    {
     "name": "stdout",
     "output_type": "stream",
     "text": [
      "{'label': 'C100', 'output': 'D:\\\\Data\\\\resonator\\\\test', 'IF_bandwidth': 200, 'power': 0, 'repeat': 3, 'frequency': {'start': 5725000000.0, 'stop': 5760000000.0, 'points': 1001}}\n",
      "measurement: 0/3\n",
      "Sweep completed: +1\n",
      "\n",
      "measurement: 1/3\n",
      "Sweep completed: +1\n",
      "\n",
      "measurement: 2/3\n"
     ]
    }
   ],
   "source": [
    "\n",
    "\n",
    "for m_task in measurements:\n",
    "    print(m_task)\n",
    "\n",
    "    output_folder = m_task[\"output\"]\n",
    "    label = m_task[\"label\"]\n",
    "\n",
    "    freq_start = m_task[\"frequency\"][\"start\"]\n",
    "    freq_stop = m_task[\"frequency\"][\"stop\"]\n",
    "    sweep_point = m_task[\"frequency\"][\"points\"]\n",
    "    vna_power = m_task[\"power\"]\n",
    "\n",
    "    IF_bandwidth = m_task[\"frequency\"][\"points\"]\n",
    "    repeat = m_task[\"repeat\"]\n",
    "    IF_bandwidth = m_task[\"IF_bandwidth\"]\n",
    "    \n",
    "    for i in range(repeat):\n",
    "        print(f\"measurement: {i}/{repeat}\")\n",
    "        # Set start and stop frequencies\n",
    "\n",
    "        \n",
    "        start_time = datetime.now()\n",
    "        freq_array, s_params  = vna.lin_freq_sweep( freq_start, freq_stop, sweep_point, vna_port, power=vna_power, IF_bandwith=IF_bandwidth)\n",
    "        end_time = datetime.now()\n",
    "        # Creating an xarray dataset\n",
    "        output_data = {\n",
    "            \"s21\": ( [\"s_params\",\"frequency\"],\n",
    "                    np.array([s_params.real, s_params.imag]) )\n",
    "        }\n",
    "        dataset = xr.Dataset(\n",
    "            output_data,\n",
    "            coords={ \"s_params\":np.array([\"real\",\"imag\"]), \"frequency\": freq_array })\n",
    "        \n",
    "\n",
    "        dataset.attrs[\"IF_bandwidth\"] = IF_bandwidth\n",
    "        dataset.attrs[\"power\"] = vna_power\n",
    "        dataset.attrs[\"attenuation\"] = attenuation\n",
    "\n",
    "        dataset.attrs[\"start_time\"] = str(start_time.strftime(\"%Y%m%d_%H%M%S\"))\n",
    "        dataset.attrs[\"end_time\"] = str(end_time.strftime(\"%Y%m%d_%H%M%S\"))\n",
    "\n",
    "        if not exists(output_folder):\n",
    "            makedirs(output_folder)\n",
    "            print(f\"Create subfolder {output_folder} in result!\")\n",
    "\n",
    "        dataset.to_netcdf( f\"{output_folder}\\\\{label}_{start_time.strftime('%Y%m%d_%H%M%S')}.nc\")\n",
    "\n"
   ]
  },
  {
   "cell_type": "markdown",
   "metadata": {},
   "source": [
    "Plot"
   ]
  },
  {
   "cell_type": "code",
   "execution_count": null,
   "metadata": {},
   "outputs": [
    {
     "data": {
      "image/png": "[encoded data removed]",
      "text/plain": [
       "<Figure size 640x480 with 1 Axes>"
      ]
     },
     "metadata": {},
     "output_type": "display_data"
    }
   ],
   "source": [
    "# # Generate the frequency array\n",
    "plt.plot(freq_array, 20*np.log10(np.abs(s_params)))\n",
    "plt.plot(freq_array, np.angle(s_params))\n",
    "\n",
    "plt.show()\n"
   ]
  }
 ],
 "metadata": {
  "kernelspec": {
   "display_name": "PYQUM-server-offline",
   "language": "python",
   "name": "python3"
  },
  "language_info": {
   "codemirror_mode": {
    "name": "ipython",
    "version": 3
   },
   "file_extension": ".py",
   "mimetype": "text/x-python",
   "name": "python",
   "nbconvert_exporter": "python",
   "pygments_lexer": "ipython3",
   "version": "3.10.6"
  }
 },
 "nbformat": 4,
 "nbformat_minor": 2
}
