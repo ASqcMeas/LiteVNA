{
 "cells": [
  {
   "cell_type": "markdown",
   "metadata": {},
   "source": [
    "Set configuration for this measurement"
   ]
  },
  {
   "cell_type": "code",
   "execution_count": 1,
   "metadata": {},
   "outputs": [],
   "source": [
    "# config_path = r'measurement_LF.toml'\n",
    "config_path = r'power_dep_resonator.toml'\n",
    "\n",
    "\n",
    "import tomlkit\n",
    "\n",
    "# Assuming 'config.toml' is your file\n",
    "with open(config_path, 'r') as file:\n",
    "    content = file.read()\n",
    "    sweepLF_config = tomlkit.parse(content)\n",
    "\n"
   ]
  },
  {
   "cell_type": "markdown",
   "metadata": {},
   "source": [
    "config parser"
   ]
  },
  {
   "cell_type": "code",
   "execution_count": 2,
   "metadata": {},
   "outputs": [],
   "source": [
    "\n",
    "\n",
    "vna_address = sweepLF_config[\"hardware\"][\"address\"]\n",
    "vna_model = sweepLF_config[\"hardware\"][\"model\"]\n",
    "vna_port = sweepLF_config[\"hardware\"][\"port\"]\n",
    "\n",
    "measurements = sweepLF_config[\"measurement\"]\n",
    "attenuation = sweepLF_config[\"hardware\"][\"attenuation\"]\n",
    "\n"
   ]
  },
  {
   "cell_type": "markdown",
   "metadata": {},
   "source": [
    "Load packages"
   ]
  },
  {
   "cell_type": "code",
   "execution_count": 3,
   "metadata": {},
   "outputs": [
    {
     "name": "stderr",
     "output_type": "stream",
     "text": [
      "c:\\Users\\shiau\\.conda\\envs\\PYQUM-server-offline\\lib\\site-packages\\pandas\\core\\computation\\expressions.py:21: UserWarning: Pandas requires version '2.8.4' or newer of 'numexpr' (version '2.7.3' currently installed).\n",
      "  from pandas.core.computation.check import NUMEXPR_INSTALLED\n"
     ]
    }
   ],
   "source": [
    "import numpy as np\n",
    "import matplotlib.pyplot as plt\n",
    "import xarray as xr\n",
    "from datetime import datetime\n",
    "from os import makedirs\n",
    "from os.path import exists\n"
   ]
  },
  {
   "cell_type": "markdown",
   "metadata": {},
   "source": [
    "Connect with VNA"
   ]
  },
  {
   "cell_type": "code",
   "execution_count": 4,
   "metadata": {},
   "outputs": [
    {
     "name": "stdout",
     "output_type": "stream",
     "text": [
      "Connected to: Rohde-Schwarz ZNB20-4Port (serial:1334333064101393, firmware:3.32) in 2.71s\n",
      "Connected to: {'vendor': 'Rohde-Schwarz', 'model': 'ZNB20-4Port', 'serial': '1334333064101393', 'firmware': '3.32'}\n"
     ]
    }
   ],
   "source": [
    "\n",
    "from driver import get_VNA\n",
    "\n",
    "vna = get_VNA(vna_address,vna_model)\n",
    "\n",
    "vna.check_error()\n",
    "\n",
    "\n"
   ]
  },
  {
   "cell_type": "markdown",
   "metadata": {},
   "source": [
    "Measurement"
   ]
  },
  {
   "cell_type": "code",
   "execution_count": 5,
   "metadata": {},
   "outputs": [
    {
     "name": "stdout",
     "output_type": "stream",
     "text": [
      "{'label': 'C49272', 'IF_bandwidth': 20, 'power': -10.0, 'repeat': 1, 'output': 'D:\\\\Data\\\\Qubit\\\\Res_v2_abd_0920\\\\raw\\\\C49272\\\\att74_-10.0', 'frequency': {'start': 4926960000.0, 'stop': 4927460000.0, 'points': 501}}\n",
      "measurement: 0/1\n",
      "Create subfolder D:\\Data\\Qubit\\Res_v2_abd_0920\\raw\\C49272\\att74_-10.0 in result!\n",
      "{'label': 'C49272', 'IF_bandwidth': 20, 'power': -5.0, 'repeat': 1, 'output': 'D:\\\\Data\\\\Qubit\\\\Res_v2_abd_0920\\\\raw\\\\C49272\\\\att74_-5.0', 'frequency': {'start': 4926960000.0, 'stop': 4927460000.0, 'points': 501}}\n",
      "measurement: 0/1\n",
      "Create subfolder D:\\Data\\Qubit\\Res_v2_abd_0920\\raw\\C49272\\att74_-5.0 in result!\n",
      "{'label': 'C49272', 'IF_bandwidth': 20, 'power': 0.0, 'repeat': 1, 'output': 'D:\\\\Data\\\\Qubit\\\\Res_v2_abd_0920\\\\raw\\\\C49272\\\\att74_0.0', 'frequency': {'start': 4926960000.0, 'stop': 4927460000.0, 'points': 501}}\n",
      "measurement: 0/1\n",
      "Create subfolder D:\\Data\\Qubit\\Res_v2_abd_0920\\raw\\C49272\\att74_0.0 in result!\n",
      "{'label': 'C50147', 'IF_bandwidth': 20, 'power': -10.0, 'repeat': 1, 'output': 'D:\\\\Data\\\\Qubit\\\\Res_v2_abd_0920\\\\raw\\\\C50147\\\\att74_-10.0', 'frequency': {'start': 5013700000.0, 'stop': 5015700000.0, 'points': 501}}\n",
      "measurement: 0/1\n",
      "Create subfolder D:\\Data\\Qubit\\Res_v2_abd_0920\\raw\\C50147\\att74_-10.0 in result!\n",
      "{'label': 'C50147', 'IF_bandwidth': 20, 'power': -5.0, 'repeat': 1, 'output': 'D:\\\\Data\\\\Qubit\\\\Res_v2_abd_0920\\\\raw\\\\C50147\\\\att74_-5.0', 'frequency': {'start': 5013700000.0, 'stop': 5015700000.0, 'points': 501}}\n",
      "measurement: 0/1\n",
      "Create subfolder D:\\Data\\Qubit\\Res_v2_abd_0920\\raw\\C50147\\att74_-5.0 in result!\n",
      "{'label': 'C50147', 'IF_bandwidth': 20, 'power': 0.0, 'repeat': 1, 'output': 'D:\\\\Data\\\\Qubit\\\\Res_v2_abd_0920\\\\raw\\\\C50147\\\\att74_0.0', 'frequency': {'start': 5013700000.0, 'stop': 5015700000.0, 'points': 501}}\n",
      "measurement: 0/1\n",
      "Create subfolder D:\\Data\\Qubit\\Res_v2_abd_0920\\raw\\C50147\\att74_0.0 in result!\n",
      "{'label': 'C51908', 'IF_bandwidth': 20, 'power': -10.0, 'repeat': 1, 'output': 'D:\\\\Data\\\\Qubit\\\\Res_v2_abd_0920\\\\raw\\\\C51908\\\\att74_-10.0', 'frequency': {'start': 5190650000.0, 'stop': 5190940000.0, 'points': 501}}\n",
      "measurement: 0/1\n",
      "Create subfolder D:\\Data\\Qubit\\Res_v2_abd_0920\\raw\\C51908\\att74_-10.0 in result!\n",
      "{'label': 'C51908', 'IF_bandwidth': 20, 'power': -5.0, 'repeat': 1, 'output': 'D:\\\\Data\\\\Qubit\\\\Res_v2_abd_0920\\\\raw\\\\C51908\\\\att74_-5.0', 'frequency': {'start': 5190650000.0, 'stop': 5190940000.0, 'points': 501}}\n",
      "measurement: 0/1\n",
      "Create subfolder D:\\Data\\Qubit\\Res_v2_abd_0920\\raw\\C51908\\att74_-5.0 in result!\n",
      "{'label': 'C51908', 'IF_bandwidth': 20, 'power': 0.0, 'repeat': 1, 'output': 'D:\\\\Data\\\\Qubit\\\\Res_v2_abd_0920\\\\raw\\\\C51908\\\\att74_0.0', 'frequency': {'start': 5190650000.0, 'stop': 5190940000.0, 'points': 501}}\n",
      "measurement: 0/1\n",
      "Create subfolder D:\\Data\\Qubit\\Res_v2_abd_0920\\raw\\C51908\\att74_0.0 in result!\n",
      "{'label': 'C52790', 'IF_bandwidth': 20, 'power': -10.0, 'repeat': 1, 'output': 'D:\\\\Data\\\\Qubit\\\\Res_v2_abd_0920\\\\raw\\\\C52790\\\\att74_-10.0', 'frequency': {'start': 5279020000.0, 'stop': 5279060000.0, 'points': 501}}\n",
      "measurement: 0/1\n",
      "Create subfolder D:\\Data\\Qubit\\Res_v2_abd_0920\\raw\\C52790\\att74_-10.0 in result!\n",
      "{'label': 'C52790', 'IF_bandwidth': 20, 'power': -5.0, 'repeat': 1, 'output': 'D:\\\\Data\\\\Qubit\\\\Res_v2_abd_0920\\\\raw\\\\C52790\\\\att74_-5.0', 'frequency': {'start': 5279020000.0, 'stop': 5279060000.0, 'points': 501}}\n",
      "measurement: 0/1\n",
      "Create subfolder D:\\Data\\Qubit\\Res_v2_abd_0920\\raw\\C52790\\att74_-5.0 in result!\n",
      "{'label': 'C52790', 'IF_bandwidth': 20, 'power': 0.0, 'repeat': 1, 'output': 'D:\\\\Data\\\\Qubit\\\\Res_v2_abd_0920\\\\raw\\\\C52790\\\\att74_0.0', 'frequency': {'start': 5279020000.0, 'stop': 5279060000.0, 'points': 501}}\n",
      "measurement: 0/1\n",
      "Create subfolder D:\\Data\\Qubit\\Res_v2_abd_0920\\raw\\C52790\\att74_0.0 in result!\n",
      "{'label': 'C53664', 'IF_bandwidth': 20, 'power': -10.0, 'repeat': 1, 'output': 'D:\\\\Data\\\\Qubit\\\\Res_v2_abd_0920\\\\raw\\\\C53664\\\\att74_-10.0', 'frequency': {'start': 5366360000.0, 'stop': 5366410000.0, 'points': 501}}\n",
      "measurement: 0/1\n",
      "Create subfolder D:\\Data\\Qubit\\Res_v2_abd_0920\\raw\\C53664\\att74_-10.0 in result!\n",
      "{'label': 'C53664', 'IF_bandwidth': 20, 'power': -5.0, 'repeat': 1, 'output': 'D:\\\\Data\\\\Qubit\\\\Res_v2_abd_0920\\\\raw\\\\C53664\\\\att74_-5.0', 'frequency': {'start': 5366360000.0, 'stop': 5366410000.0, 'points': 501}}\n",
      "measurement: 0/1\n",
      "Create subfolder D:\\Data\\Qubit\\Res_v2_abd_0920\\raw\\C53664\\att74_-5.0 in result!\n",
      "{'label': 'C53664', 'IF_bandwidth': 20, 'power': 0.0, 'repeat': 1, 'output': 'D:\\\\Data\\\\Qubit\\\\Res_v2_abd_0920\\\\raw\\\\C53664\\\\att74_0.0', 'frequency': {'start': 5366360000.0, 'stop': 5366410000.0, 'points': 501}}\n",
      "measurement: 0/1\n",
      "Create subfolder D:\\Data\\Qubit\\Res_v2_abd_0920\\raw\\C53664\\att74_0.0 in result!\n",
      "{'label': 'C54550', 'IF_bandwidth': 20, 'power': -10.0, 'repeat': 1, 'output': 'D:\\\\Data\\\\Qubit\\\\Res_v2_abd_0920\\\\raw\\\\C54550\\\\att74_-10.0', 'frequency': {'start': 5454915000.0, 'stop': 5455215000.0, 'points': 501}}\n",
      "measurement: 0/1\n",
      "Create subfolder D:\\Data\\Qubit\\Res_v2_abd_0920\\raw\\C54550\\att74_-10.0 in result!\n",
      "{'label': 'C54550', 'IF_bandwidth': 20, 'power': -5.0, 'repeat': 1, 'output': 'D:\\\\Data\\\\Qubit\\\\Res_v2_abd_0920\\\\raw\\\\C54550\\\\att74_-5.0', 'frequency': {'start': 5454915000.0, 'stop': 5455215000.0, 'points': 501}}\n",
      "measurement: 0/1\n",
      "Create subfolder D:\\Data\\Qubit\\Res_v2_abd_0920\\raw\\C54550\\att74_-5.0 in result!\n",
      "{'label': 'C54550', 'IF_bandwidth': 20, 'power': 0.0, 'repeat': 1, 'output': 'D:\\\\Data\\\\Qubit\\\\Res_v2_abd_0920\\\\raw\\\\C54550\\\\att74_0.0', 'frequency': {'start': 5454915000.0, 'stop': 5455215000.0, 'points': 501}}\n",
      "measurement: 0/1\n",
      "Create subfolder D:\\Data\\Qubit\\Res_v2_abd_0920\\raw\\C54550\\att74_0.0 in result!\n",
      "{'label': 'C55420', 'IF_bandwidth': 20, 'power': -10.0, 'repeat': 1, 'output': 'D:\\\\Data\\\\Qubit\\\\Res_v2_abd_0920\\\\raw\\\\C55420\\\\att74_-10.0', 'frequency': {'start': 5541950000.0, 'stop': 5542090000.0, 'points': 501}}\n",
      "measurement: 0/1\n",
      "Create subfolder D:\\Data\\Qubit\\Res_v2_abd_0920\\raw\\C55420\\att74_-10.0 in result!\n",
      "{'label': 'C55420', 'IF_bandwidth': 20, 'power': -5.0, 'repeat': 1, 'output': 'D:\\\\Data\\\\Qubit\\\\Res_v2_abd_0920\\\\raw\\\\C55420\\\\att74_-5.0', 'frequency': {'start': 5541950000.0, 'stop': 5542090000.0, 'points': 501}}\n",
      "measurement: 0/1\n",
      "Create subfolder D:\\Data\\Qubit\\Res_v2_abd_0920\\raw\\C55420\\att74_-5.0 in result!\n",
      "{'label': 'C55420', 'IF_bandwidth': 20, 'power': 0.0, 'repeat': 1, 'output': 'D:\\\\Data\\\\Qubit\\\\Res_v2_abd_0920\\\\raw\\\\C55420\\\\att74_0.0', 'frequency': {'start': 5541950000.0, 'stop': 5542090000.0, 'points': 501}}\n",
      "measurement: 0/1\n",
      "Create subfolder D:\\Data\\Qubit\\Res_v2_abd_0920\\raw\\C55420\\att74_0.0 in result!\n",
      "{'label': 'C56303', 'IF_bandwidth': 20, 'power': -10.0, 'repeat': 1, 'output': 'D:\\\\Data\\\\Qubit\\\\Res_v2_abd_0920\\\\raw\\\\C56303\\\\att74_-10.0', 'frequency': {'start': 5630190000.0, 'stop': 5630490000.0, 'points': 501}}\n",
      "measurement: 0/1\n",
      "Create subfolder D:\\Data\\Qubit\\Res_v2_abd_0920\\raw\\C56303\\att74_-10.0 in result!\n",
      "{'label': 'C56303', 'IF_bandwidth': 20, 'power': -5.0, 'repeat': 1, 'output': 'D:\\\\Data\\\\Qubit\\\\Res_v2_abd_0920\\\\raw\\\\C56303\\\\att74_-5.0', 'frequency': {'start': 5630190000.0, 'stop': 5630490000.0, 'points': 501}}\n",
      "measurement: 0/1\n",
      "Create subfolder D:\\Data\\Qubit\\Res_v2_abd_0920\\raw\\C56303\\att74_-5.0 in result!\n",
      "{'label': 'C56303', 'IF_bandwidth': 20, 'power': 0.0, 'repeat': 1, 'output': 'D:\\\\Data\\\\Qubit\\\\Res_v2_abd_0920\\\\raw\\\\C56303\\\\att74_0.0', 'frequency': {'start': 5630190000.0, 'stop': 5630490000.0, 'points': 501}}\n",
      "measurement: 0/1\n",
      "Create subfolder D:\\Data\\Qubit\\Res_v2_abd_0920\\raw\\C56303\\att74_0.0 in result!\n",
      "{'label': 'C57177', 'IF_bandwidth': 20, 'power': -10.0, 'repeat': 1, 'output': 'D:\\\\Data\\\\Qubit\\\\Res_v2_abd_0920\\\\raw\\\\C57177\\\\att74_-10.0', 'frequency': {'start': 5717675000.0, 'stop': 5717850000.0, 'points': 501}}\n",
      "measurement: 0/1\n",
      "Create subfolder D:\\Data\\Qubit\\Res_v2_abd_0920\\raw\\C57177\\att74_-10.0 in result!\n",
      "{'label': 'C57177', 'IF_bandwidth': 20, 'power': -5.0, 'repeat': 1, 'output': 'D:\\\\Data\\\\Qubit\\\\Res_v2_abd_0920\\\\raw\\\\C57177\\\\att74_-5.0', 'frequency': {'start': 5717675000.0, 'stop': 5717850000.0, 'points': 501}}\n",
      "measurement: 0/1\n",
      "Create subfolder D:\\Data\\Qubit\\Res_v2_abd_0920\\raw\\C57177\\att74_-5.0 in result!\n",
      "{'label': 'C57177', 'IF_bandwidth': 20, 'power': 0.0, 'repeat': 1, 'output': 'D:\\\\Data\\\\Qubit\\\\Res_v2_abd_0920\\\\raw\\\\C57177\\\\att74_0.0', 'frequency': {'start': 5717675000.0, 'stop': 5717850000.0, 'points': 501}}\n",
      "measurement: 0/1\n",
      "Create subfolder D:\\Data\\Qubit\\Res_v2_abd_0920\\raw\\C57177\\att74_0.0 in result!\n"
     ]
    }
   ],
   "source": [
    "\n",
    "\n",
    "for m_task in measurements:\n",
    "    print(m_task)\n",
    "\n",
    "    output_folder = m_task[\"output\"]\n",
    "    label = m_task[\"label\"]\n",
    "\n",
    "    freq_start = m_task[\"frequency\"][\"start\"]\n",
    "    freq_stop = m_task[\"frequency\"][\"stop\"]\n",
    "    sweep_point = m_task[\"frequency\"][\"points\"]\n",
    "    vna_power = m_task[\"power\"]\n",
    "\n",
    "    IF_bandwidth = m_task[\"frequency\"][\"points\"]\n",
    "    repeat = m_task[\"repeat\"]\n",
    "    IF_bandwidth = m_task[\"IF_bandwidth\"]\n",
    "    \n",
    "    for i in range(repeat):\n",
    "        print(f\"measurement: {i}/{repeat}\")\n",
    "        # Set start and stop frequencies\n",
    "\n",
    "        \n",
    "        start_time = datetime.now()\n",
    "        freq_array, s_params  = vna.lin_freq_sweep( freq_start, freq_stop, sweep_point, vna_port, power=vna_power, IF_bandwith=IF_bandwidth)\n",
    "        end_time = datetime.now()\n",
    "        # Creating an xarray dataset\n",
    "        output_data = {\n",
    "            \"s21\": ( [\"s_params\",\"frequency\"],\n",
    "                    np.array([s_params.real, s_params.imag]) )\n",
    "        }\n",
    "        dataset = xr.Dataset(\n",
    "            output_data,\n",
    "            coords={ \"s_params\":np.array([\"real\",\"imag\"]), \"frequency\": freq_array })\n",
    "        \n",
    "\n",
    "        dataset.attrs[\"IF_bandwidth\"] = IF_bandwidth\n",
    "        dataset.attrs[\"power\"] = vna_power\n",
    "        dataset.attrs[\"attenuation\"] = attenuation\n",
    "\n",
    "        dataset.attrs[\"start_time\"] = str(start_time.strftime(\"%Y%m%d_%H%M%S\"))\n",
    "        dataset.attrs[\"end_time\"] = str(end_time.strftime(\"%Y%m%d_%H%M%S\"))\n",
    "\n",
    "        if not exists(output_folder):\n",
    "            makedirs(output_folder)\n",
    "            print(f\"Create subfolder {output_folder} in result!\")\n",
    "\n",
    "        dataset.to_netcdf( f\"{output_folder}\\\\{label}_{start_time.strftime('%Y%m%d_%H%M%S')}.nc\")\n",
    "\n"
   ]
  },
  {
   "cell_type": "markdown",
   "metadata": {},
   "source": [
    "Plot"
   ]
  },
  {
   "cell_type": "code",
   "execution_count": 6,
   "metadata": {},
   "outputs": [],
   "source": [
    "%matplotlib qt \n",
    "\n",
    "# # Generate the frequency array\n",
    "plt.plot(freq_array, 20*np.log10(np.abs(s_params)))\n",
    "plt.plot(freq_array, np.angle(s_params))\n",
    "\n",
    "plt.show()\n"
   ]
  }
 ],
 "metadata": {
  "kernelspec": {
   "display_name": "PYQUM-server-offline",
   "language": "python",
   "name": "python3"
  },
  "language_info": {
   "codemirror_mode": {
    "name": "ipython",
    "version": 3
   },
   "file_extension": ".py",
   "mimetype": "text/x-python",
   "name": "python",
   "nbconvert_exporter": "python",
   "pygments_lexer": "ipython3",
   "version": "3.10.6"
  }
 },
 "nbformat": 4,
 "nbformat_minor": 2
}
